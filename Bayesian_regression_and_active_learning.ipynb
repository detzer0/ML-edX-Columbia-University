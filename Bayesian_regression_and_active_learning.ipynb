{
  "nbformat": 4,
  "nbformat_minor": 0,
  "metadata": {
    "colab": {
      "name": "Bayesian regression and active learning.ipynb",
      "provenance": [],
      "collapsed_sections": []
    },
    "kernelspec": {
      "name": "python3",
      "display_name": "Python 3"
    },
    "language_info": {
      "name": "python"
    }
  },
  "cells": [
    {
      "cell_type": "markdown",
      "source": [
        "My implementation of Bayesian Regression and Active Learning strategy for CO2 emission predicton based on the car's volume and weight. "
      ],
      "metadata": {
        "id": "apqcb_Wy-LYf"
      }
    },
    {
      "cell_type": "code",
      "source": [
        "import numpy as np\n",
        "import pandas as pd\n",
        "import matplotlib.pyplot as plt"
      ],
      "metadata": {
        "id": "-xOkMY2x_Ed-"
      },
      "execution_count": 6,
      "outputs": []
    },
    {
      "cell_type": "code",
      "source": [
        "file_path = \"/content/cars.csv\"\n",
        "data = pd.read_csv(file_path, delimiter = ',')"
      ],
      "metadata": {
        "id": "7nYHkYPE_gXv"
      },
      "execution_count": 100,
      "outputs": []
    },
    {
      "cell_type": "code",
      "source": [
        "data.head()"
      ],
      "metadata": {
        "colab": {
          "base_uri": "https://localhost:8080/",
          "height": 206
        },
        "id": "Drt4BJCf_xZX",
        "outputId": "eba7c297-cdba-4d31-dccb-f9b9f2f61925"
      },
      "execution_count": 101,
      "outputs": [
        {
          "output_type": "execute_result",
          "data": {
            "text/html": [
              "\n",
              "  <div id=\"df-36300e43-7927-4979-af21-e2e6344703b6\">\n",
              "    <div class=\"colab-df-container\">\n",
              "      <div>\n",
              "<style scoped>\n",
              "    .dataframe tbody tr th:only-of-type {\n",
              "        vertical-align: middle;\n",
              "    }\n",
              "\n",
              "    .dataframe tbody tr th {\n",
              "        vertical-align: top;\n",
              "    }\n",
              "\n",
              "    .dataframe thead th {\n",
              "        text-align: right;\n",
              "    }\n",
              "</style>\n",
              "<table border=\"1\" class=\"dataframe\">\n",
              "  <thead>\n",
              "    <tr style=\"text-align: right;\">\n",
              "      <th></th>\n",
              "      <th>Car</th>\n",
              "      <th>Model</th>\n",
              "      <th>Volume</th>\n",
              "      <th>Weight</th>\n",
              "      <th>CO2</th>\n",
              "    </tr>\n",
              "  </thead>\n",
              "  <tbody>\n",
              "    <tr>\n",
              "      <th>0</th>\n",
              "      <td>Toyoty</td>\n",
              "      <td>Aygo</td>\n",
              "      <td>1000</td>\n",
              "      <td>790</td>\n",
              "      <td>99</td>\n",
              "    </tr>\n",
              "    <tr>\n",
              "      <th>1</th>\n",
              "      <td>Mitsubishi</td>\n",
              "      <td>Space Star</td>\n",
              "      <td>1200</td>\n",
              "      <td>1160</td>\n",
              "      <td>95</td>\n",
              "    </tr>\n",
              "    <tr>\n",
              "      <th>2</th>\n",
              "      <td>Skoda</td>\n",
              "      <td>Citigo</td>\n",
              "      <td>1000</td>\n",
              "      <td>929</td>\n",
              "      <td>95</td>\n",
              "    </tr>\n",
              "    <tr>\n",
              "      <th>3</th>\n",
              "      <td>Fiat</td>\n",
              "      <td>500</td>\n",
              "      <td>900</td>\n",
              "      <td>865</td>\n",
              "      <td>90</td>\n",
              "    </tr>\n",
              "    <tr>\n",
              "      <th>4</th>\n",
              "      <td>Mini</td>\n",
              "      <td>Cooper</td>\n",
              "      <td>1500</td>\n",
              "      <td>1140</td>\n",
              "      <td>105</td>\n",
              "    </tr>\n",
              "  </tbody>\n",
              "</table>\n",
              "</div>\n",
              "      <button class=\"colab-df-convert\" onclick=\"convertToInteractive('df-36300e43-7927-4979-af21-e2e6344703b6')\"\n",
              "              title=\"Convert this dataframe to an interactive table.\"\n",
              "              style=\"display:none;\">\n",
              "        \n",
              "  <svg xmlns=\"http://www.w3.org/2000/svg\" height=\"24px\"viewBox=\"0 0 24 24\"\n",
              "       width=\"24px\">\n",
              "    <path d=\"M0 0h24v24H0V0z\" fill=\"none\"/>\n",
              "    <path d=\"M18.56 5.44l.94 2.06.94-2.06 2.06-.94-2.06-.94-.94-2.06-.94 2.06-2.06.94zm-11 1L8.5 8.5l.94-2.06 2.06-.94-2.06-.94L8.5 2.5l-.94 2.06-2.06.94zm10 10l.94 2.06.94-2.06 2.06-.94-2.06-.94-.94-2.06-.94 2.06-2.06.94z\"/><path d=\"M17.41 7.96l-1.37-1.37c-.4-.4-.92-.59-1.43-.59-.52 0-1.04.2-1.43.59L10.3 9.45l-7.72 7.72c-.78.78-.78 2.05 0 2.83L4 21.41c.39.39.9.59 1.41.59.51 0 1.02-.2 1.41-.59l7.78-7.78 2.81-2.81c.8-.78.8-2.07 0-2.86zM5.41 20L4 18.59l7.72-7.72 1.47 1.35L5.41 20z\"/>\n",
              "  </svg>\n",
              "      </button>\n",
              "      \n",
              "  <style>\n",
              "    .colab-df-container {\n",
              "      display:flex;\n",
              "      flex-wrap:wrap;\n",
              "      gap: 12px;\n",
              "    }\n",
              "\n",
              "    .colab-df-convert {\n",
              "      background-color: #E8F0FE;\n",
              "      border: none;\n",
              "      border-radius: 50%;\n",
              "      cursor: pointer;\n",
              "      display: none;\n",
              "      fill: #1967D2;\n",
              "      height: 32px;\n",
              "      padding: 0 0 0 0;\n",
              "      width: 32px;\n",
              "    }\n",
              "\n",
              "    .colab-df-convert:hover {\n",
              "      background-color: #E2EBFA;\n",
              "      box-shadow: 0px 1px 2px rgba(60, 64, 67, 0.3), 0px 1px 3px 1px rgba(60, 64, 67, 0.15);\n",
              "      fill: #174EA6;\n",
              "    }\n",
              "\n",
              "    [theme=dark] .colab-df-convert {\n",
              "      background-color: #3B4455;\n",
              "      fill: #D2E3FC;\n",
              "    }\n",
              "\n",
              "    [theme=dark] .colab-df-convert:hover {\n",
              "      background-color: #434B5C;\n",
              "      box-shadow: 0px 1px 3px 1px rgba(0, 0, 0, 0.15);\n",
              "      filter: drop-shadow(0px 1px 2px rgba(0, 0, 0, 0.3));\n",
              "      fill: #FFFFFF;\n",
              "    }\n",
              "  </style>\n",
              "\n",
              "      <script>\n",
              "        const buttonEl =\n",
              "          document.querySelector('#df-36300e43-7927-4979-af21-e2e6344703b6 button.colab-df-convert');\n",
              "        buttonEl.style.display =\n",
              "          google.colab.kernel.accessAllowed ? 'block' : 'none';\n",
              "\n",
              "        async function convertToInteractive(key) {\n",
              "          const element = document.querySelector('#df-36300e43-7927-4979-af21-e2e6344703b6');\n",
              "          const dataTable =\n",
              "            await google.colab.kernel.invokeFunction('convertToInteractive',\n",
              "                                                     [key], {});\n",
              "          if (!dataTable) return;\n",
              "\n",
              "          const docLinkHtml = 'Like what you see? Visit the ' +\n",
              "            '<a target=\"_blank\" href=https://colab.research.google.com/notebooks/data_table.ipynb>data table notebook</a>'\n",
              "            + ' to learn more about interactive tables.';\n",
              "          element.innerHTML = '';\n",
              "          dataTable['output_type'] = 'display_data';\n",
              "          await google.colab.output.renderOutput(dataTable, element);\n",
              "          const docLink = document.createElement('div');\n",
              "          docLink.innerHTML = docLinkHtml;\n",
              "          element.appendChild(docLink);\n",
              "        }\n",
              "      </script>\n",
              "    </div>\n",
              "  </div>\n",
              "  "
            ],
            "text/plain": [
              "          Car       Model  Volume  Weight  CO2\n",
              "0      Toyoty        Aygo    1000     790   99\n",
              "1  Mitsubishi  Space Star    1200    1160   95\n",
              "2       Skoda      Citigo    1000     929   95\n",
              "3        Fiat         500     900     865   90\n",
              "4        Mini      Cooper    1500    1140  105"
            ]
          },
          "metadata": {},
          "execution_count": 101
        }
      ]
    },
    {
      "cell_type": "code",
      "source": [
        "data.plot('Volume', 'CO2', kind = 'scatter', marker = 'x')\n",
        "data.plot('Weight', 'CO2', kind = 'scatter', marker = 'x')"
      ],
      "metadata": {
        "colab": {
          "base_uri": "https://localhost:8080/",
          "height": 558
        },
        "id": "YtiRB4ol_0Lv",
        "outputId": "813ace23-2ae9-4cdd-dc96-3bceaaae7eab"
      },
      "execution_count": 102,
      "outputs": [
        {
          "output_type": "execute_result",
          "data": {
            "text/plain": [
              "<matplotlib.axes._subplots.AxesSubplot at 0x7f2c0851b910>"
            ]
          },
          "metadata": {},
          "execution_count": 102
        },
        {
          "output_type": "display_data",
          "data": {
            "image/png": "[encoded data removed]",
            "text/plain": [
              "<Figure size 432x288 with 1 Axes>"
            ]
          },
          "metadata": {
            "needs_background": "light"
          }
        },
        {
          "output_type": "display_data",
          "data": {
            "image/png": "[encoded data removed]",
            "text/plain": [
              "<Figure size 432x288 with 1 Axes>"
            ]
          },
          "metadata": {
            "needs_background": "light"
          }
        }
      ]
    },
    {
      "cell_type": "code",
      "source": [
        "X_data = data[['Volume', 'Weight']].values\n",
        "y_data = data[['CO2']].values"
      ],
      "metadata": {
        "id": "jD4v2JESAhpf"
      },
      "execution_count": 103,
      "outputs": []
    },
    {
      "cell_type": "code",
      "source": [
        "def x_preprocess(input_x):\n",
        "    \"\"\"\n",
        "    Reshape the input (if needed), and prepend \"1\" to each observation\n",
        "    \n",
        "    Positional Argument:\n",
        "        input_x -- a NumPy array, one- or two-dimensional\n",
        "        \n",
        "    \"\"\"\n",
        "    if input_x.ndim>=2:\n",
        "        if np.shape(input_x)[0] < np.shape(input_x)[1]:\n",
        "            input_x = input_x.T\n",
        "        ones = np.ones((np.shape(input_x)[0],1))\n",
        "        output = np.concatenate((ones, input_x), axis=1)\n",
        "    else:\n",
        "        ones = np.array([1])\n",
        "        output = np.concatenate((ones, input_x))\n",
        "\n",
        "  \n",
        "    return output"
      ],
      "metadata": {
        "id": "2lkje6dVQgjL"
      },
      "execution_count": 104,
      "outputs": []
    },
    {
      "cell_type": "code",
      "source": [
        "# Prepend a column of 1's to covariates matrix \n",
        "X_data_post = x_preprocess(X_data)"
      ],
      "metadata": {
        "id": "sLauqYxovA9E"
      },
      "execution_count": null,
      "outputs": []
    },
    {
      "cell_type": "code",
      "source": [
        "n_train = 30\n",
        "# Training set\n",
        "X_train = X_data_post[:n_train, :]\n",
        "y_train = y_data[:n_train]\n",
        "# Test set\n",
        "X_test = X_data_post[n_train:, :]\n",
        "y_test = y_data[n_train:]"
      ],
      "metadata": {
        "id": "6AsFxwWMJ3kV"
      },
      "execution_count": 123,
      "outputs": []
    },
    {
      "cell_type": "code",
      "source": [
        "X_train.shape, y_train.shape, X_test.shape, y_test.shape"
      ],
      "metadata": {
        "colab": {
          "base_uri": "https://localhost:8080/"
        },
        "id": "Qk6rW4l8Kx7c",
        "outputId": "c8397445-e70b-4162-9a2a-f4fb5896654a"
      },
      "execution_count": 124,
      "outputs": [
        {
          "output_type": "execute_result",
          "data": {
            "text/plain": [
              "((30, 3), (30, 1), (6, 3), (6, 1))"
            ]
          },
          "metadata": {},
          "execution_count": 124
        }
      ]
    },
    {
      "cell_type": "code",
      "source": [
        "m = X_train.shape[0] # number of covariates\n",
        "d = X_train.shape[1] # dimension of covariates "
      ],
      "metadata": {
        "id": "7E09aJM5Zi-T"
      },
      "execution_count": 43,
      "outputs": []
    },
    {
      "cell_type": "markdown",
      "source": [
        "## **Bayesian Linear Regression**\n",
        "\n",
        "We have the following equation for the posterior probability of $w$, the linear regression parameter vector:\n",
        "\n",
        "$$p(w|y, X) = N(w|\\mu, \\Sigma),$$\n",
        "\n",
        "where\n",
        "\n",
        "$$\\Sigma = (\\lambda \\ I + \\sigma^{- 2}\\ X^T\\ X)^{−1}$$\n",
        "\n",
        "$$\\mu = w_{MAP} = (\\lambda \\ \\sigma^2 I + X^T\\ X)^{-1}\\ X^T y. $$\n",
        "\n",
        "We don't know the true underlying parameter $\\sigma^2$. It can be estimated by using the empirical deviation:\n",
        "\n",
        "$$\\sigma^2  = \\frac{1}{n − d}\\sum_{i=1}^n ( y_i − X_i w_{LS} )^2,$$  \n",
        "where $w_{LS} = (X^T\\ X)^{-1}\\ X^T y$ is the least-squares estimate of $w$.\n",
        "\n",
        "The prediction is made according to the predictive distribution:\n",
        "\n",
        "$$p( y_0|x_0,y,X) = N(y_0|\\mu_0,\\sigma^2_0)$$  \n",
        "\n",
        "$$\\mu_0 = x^T_0\\mu$$\n",
        "\n",
        "$$ \\sigma^2_0 = \\sigma^2 + x_0^T\\Sigma x_0.$$\n",
        "\n",
        "\n"
      ],
      "metadata": {
        "id": "H_pRc-l-Ky5z"
      }
    },
    {
      "cell_type": "code",
      "source": [
        "def calculate_map_coefficients(aug_x, output_y, lambda_param, sigma_squared):\n",
        "    \"\"\"\n",
        "    Calculate the maximum a posteriori LR parameters\n",
        "    \n",
        "     Positional arguments:\n",
        "        aug_x -- x-matrix of training input data, augmented with column of 1's\n",
        "        output_y -- vector of training output values\n",
        "        lambda_param -- positive number; lambda parameter that\n",
        "            controls how heavily to penalize large coefficient values\n",
        "        sigma_squared -- data noise estimate\n",
        "                \n",
        "    Assumptions:\n",
        "        -- output_y is a vector whose length is the same as the\n",
        "        number of rows in input_x\n",
        "        -- aug_x has more observations than it does features.\n",
        "        -- lambda_param has a value greater than 0\n",
        "    \"\"\"\n",
        "    \n",
        "    x_transpose_x = np.matmul(aug_x.T,aug_x)\n",
        "    Id = np.identity(np.shape(x_transpose_x)[0])\n",
        "    inverse = np.linalg.inv(lambda_param*sigma_squared*Id + x_transpose_x)\n",
        "    \n",
        "    coefs = np.matmul(inverse, np.dot(aug_x.T,output_y))\n",
        "    return coefs"
      ],
      "metadata": {
        "id": "FZucgR4yK0gE"
      },
      "execution_count": 15,
      "outputs": []
    },
    {
      "cell_type": "code",
      "source": [
        "def estimate_data_noise(aug_x, output_y, ml_weights):\n",
        "    \"\"\"Return empirical data noise estimate \\sigma^2\n",
        "    Use the LR weights in the equation supplied above\n",
        "    \n",
        "    Positional arguments:\n",
        "        aug_x -- matrix of training input data\n",
        "        output_y -- vector of training output values\n",
        "        ml_weights = calculate_map_coefficients(aug_x, output_y, 0, 0)\n",
        "    \"\"\"\n",
        "    error = output_y-np.dot(aug_x, ml_weights)\n",
        "    sq_error = np.square(error)\n",
        "    \n",
        "    sig2 = 1.0/(np.shape(aug_x)[0]-np.shape(aug_x)[1])*np.sum(sq_error)\n",
        "    \n",
        "    return float(sig2)"
      ],
      "metadata": {
        "id": "eJyft7_wQF4L"
      },
      "execution_count": 16,
      "outputs": []
    },
    {
      "cell_type": "code",
      "source": [
        "def calc_post_cov_mtx(aug_x, sigma_squared, lambda_param):\n",
        "    \"\"\"\n",
        "    Calculate the covariance of the posterior for Bayesian parameters.\n",
        "    \n",
        "    Positional arguments:\n",
        "        aug_x -- matrix of training input data; preprocessed\n",
        "        sigma_squared -- estimation of sigma^2\n",
        "        lambda_param -- lambda parameter that controls how heavily\n",
        "        to penalize large weight values\n",
        "    \n",
        "    \"\"\"\n",
        "    x_transpose_x = np.matmul(aug_x.T, aug_x)\n",
        "    Id = np.identity(np.shape(x_transpose_x)[0])\n",
        "    big_sigma_inv = lambda_param*Id + (1/sigma_squared)*x_transpose_x\n",
        "    big_sigma = np.linalg.inv(big_sigma_inv)\n",
        "    \n",
        "    return big_sigma"
      ],
      "metadata": {
        "id": "svDlR87wZdqZ"
      },
      "execution_count": 17,
      "outputs": []
    },
    {
      "cell_type": "code",
      "source": [
        "def predict( aug_x, weights, big_sig, sigma_squared):\n",
        "    \"\"\"\n",
        "    Calculate the point estimates and uncertainty for new values of x\n",
        "    \n",
        "    Positional Arguments:\n",
        "        aug_x -- the augmented matrix of covariates for prediction\n",
        "        weights -- MAP weights calculated from Bayesian LR\n",
        "        big_sig -- The posterior covarience matrix, from Bayesian LR\n",
        "        sigma_squared -- The observed uncertainty in Bayesian LR\n",
        "    \"\"\"\n",
        "    mu_0 = np.dot(aug_x, weights)\n",
        "    \n",
        "    sigma_squared_0 = sigma_squared + np.dot(np.dot(aug_x.T, big_sig), aug_x)\n",
        "    \n",
        "    return mu_0, sigma_squared_0\n"
      ],
      "metadata": {
        "id": "sAVqxIZM_dMX"
      },
      "execution_count": 22,
      "outputs": []
    },
    {
      "cell_type": "code",
      "source": [
        "lambda_param = 0.1\n",
        "\n",
        "ml_weights = calculate_map_coefficients(X_train, y_train, 0, 0)\n",
        "\n",
        "sigma_squared = estimate_data_noise(X_train, y_train, ml_weights)\n",
        "        \n",
        "map_weights = calculate_map_coefficients(X_train, y_train, lambda_param, sigma_squared)\n",
        "        \n",
        "big_sig = calc_post_cov_mtx(X_train, sigma_squared, lambda_param)"
      ],
      "metadata": {
        "id": "w6Wdn_qCP7cV"
      },
      "execution_count": 19,
      "outputs": []
    },
    {
      "cell_type": "code",
      "source": [
        "# Predict the output value y_pred and its uncertainty sigma_squared_0_pred\n",
        "y_pred = []\n",
        "sigma_squared_0_pred = []\n",
        "for data in X_test:\n",
        "  mu_0, sigma_squared_0 = predict(data, map_weights, big_sig, sigma_squared)\n",
        "  y_pred.append(mu_0)\n",
        "  sigma_squared_0_pred.append(sigma_squared_0)\n",
        "\n",
        "\n",
        "y_pred = np.array(y_pred)\n",
        "sigma_squared_0_pred = np.array(sigma_squared_0_pred)\n"
      ],
      "metadata": {
        "id": "gQwrm7TrRSeQ"
      },
      "execution_count": 29,
      "outputs": []
    },
    {
      "cell_type": "code",
      "source": [
        "# compute standard deviation from y_pred\n",
        "std_pred = np.sqrt(sigma_squared_0_pred)"
      ],
      "metadata": {
        "id": "E4tECHH9UDZJ"
      },
      "execution_count": 33,
      "outputs": []
    },
    {
      "cell_type": "code",
      "source": [
        "print(y_pred)\n",
        "print(y_test)\n",
        "print(std_pred)"
      ],
      "metadata": {
        "colab": {
          "base_uri": "https://localhost:8080/"
        },
        "id": "KnLXThJ8UYDL",
        "outputId": "35ad2d79-6c1f-4ce4-f131-839078bf2b26"
      },
      "execution_count": 35,
      "outputs": [
        {
          "output_type": "stream",
          "name": "stdout",
          "text": [
            "[[119.33446327]\n",
            " [126.23824324]\n",
            " [ 96.8779665 ]\n",
            " [105.09302368]\n",
            " [105.88802922]\n",
            " [110.48147399]]\n",
            "[[115]\n",
            " [117]\n",
            " [104]\n",
            " [108]\n",
            " [109]\n",
            " [120]]\n",
            "[5.58626982 5.6627988  5.48073202 5.5152517  5.52592256 6.41302085]\n"
          ]
        }
      ]
    },
    {
      "cell_type": "code",
      "source": [
        "# Accuracy metrics\n",
        "mean_square_error = np.sqrt(np.sum(np.square(y_pred-y_test), axis=0))\n",
        "print(mean_square_error)"
      ],
      "metadata": {
        "colab": {
          "base_uri": "https://localhost:8080/"
        },
        "id": "KNCqJV-bVLQQ",
        "outputId": "7cd7ab4f-5147-48a2-facf-3bcf76d7e8d1"
      },
      "execution_count": 42,
      "outputs": [
        {
          "output_type": "stream",
          "name": "stdout",
          "text": [
            "[16.2355561]\n"
          ]
        }
      ]
    },
    {
      "cell_type": "markdown",
      "source": [
        "## **Active Learning**\n",
        "\n",
        "Update the predictive distribution sequentially"
      ],
      "metadata": {
        "id": "nsX6rDRzZwaZ"
      }
    },
    {
      "cell_type": "code",
      "source": [
        "def update_posterior_sigma(sigma_prior, sigma_squared, x0):\n",
        "  \"\"\"\n",
        "    Update the covariance and the mean of the posterior with a new covariate information.\n",
        "    \n",
        "    Positional arguments:\n",
        "        sigma_prior -- covariance matrix of the prior distribution\n",
        "        aug_x -- augmented matrix of the covariates\n",
        "        sigma_squared -- estimation of sigma^2\n",
        "        x_0 -- the covariates vector\n",
        "  \"\"\"\n",
        "  # Compute the covariance\n",
        "  sigma_posterior = 1/sigma_squared*np.outer(x0, x0)\n",
        "  sigma_posterior = sigma_posterior + np.linalg.inv(sigma_prior)\n",
        "  sigma_posterior = np.linalg.inv(sigma_posterior)\n",
        "  return sigma_posterior"
      ],
      "metadata": {
        "id": "p0NGCbqRixWt"
      },
      "execution_count": 341,
      "outputs": []
    },
    {
      "cell_type": "code",
      "source": [
        "def uncertainty_evaluation(aug_x, sigma_prior, sigma_squared):\n",
        "  \"\"\"\n",
        "    Evaluate the variance of covariate vectors for prediction\n",
        "    \n",
        "    Positional arguments:\n",
        "        aug_x -- the augmented matrix of observations for predictions\n",
        "        sigma_posterior -- the covariance matrix of the posterior\n",
        "        sigma_squared -- estimation of sigma^2       \n",
        "  \"\"\"\n",
        "  prediction_uncertainty = []\n",
        "  for data in aug_x:\n",
        "       uncertainty = float(sigma_squared+np.dot(np.dot(data.T,sigma_prior),data))\n",
        "       prediction_uncertainty.append(uncertainty)\n",
        "    \n",
        "  return np.array(prediction_uncertainty)"
      ],
      "metadata": {
        "id": "3cfacT8f_yeu"
      },
      "execution_count": 342,
      "outputs": []
    },
    {
      "cell_type": "code",
      "source": [
        "def update_entropy(H_prior, sigma_squared, sigma_prior, x0):\n",
        "  \"\"\"\n",
        "    Update the entropy of the posterior distribution\n",
        "    \n",
        "    Positional arguments:\n",
        "        H_prior -- the entropy of the prior distribution\n",
        "        sigma_squared -- estimation of sigma^2    \n",
        "        sigma_prior -- the covariance of the prior distribution\n",
        "        x0 -- a covariates vector    \n",
        "  \"\"\"\n",
        "  d=len(x0)\n",
        "  H_post = H_prior - d/2*np.log(1+(1/sigma_squared)*np.dot(np.dot(x0.T, sigma_prior), x0))\n",
        "  return float(H_post)"
      ],
      "metadata": {
        "id": "4prSr0-cOzsN"
      },
      "execution_count": 343,
      "outputs": []
    },
    {
      "cell_type": "markdown",
      "source": [
        "### Greedy algorithm "
      ],
      "metadata": {
        "id": "z6eFzlu8Dw5B"
      }
    },
    {
      "cell_type": "code",
      "source": [
        "# Prepend a column of 1's to covariates matrix \n",
        "X_data_post = x_preprocess(X_data)"
      ],
      "metadata": {
        "id": "3K-3wO9EvVeW"
      },
      "execution_count": 585,
      "outputs": []
    },
    {
      "cell_type": "code",
      "source": [
        "n_train = 30\n",
        "# Training set\n",
        "X_train = X_data_post[:n_train, :]\n",
        "y_train = y_data[:n_train]\n",
        "# Test set\n",
        "X_test = X_data_post[n_train:, :]\n",
        "y_test = y_data[n_train:]"
      ],
      "metadata": {
        "id": "6JamNL5IvJL3"
      },
      "execution_count": 586,
      "outputs": []
    },
    {
      "cell_type": "code",
      "source": [
        "X_test"
      ],
      "metadata": {
        "colab": {
          "base_uri": "https://localhost:8080/"
        },
        "id": "O58ytAI_nvmu",
        "outputId": "a812448a-cdff-4013-bf6b-f789d13f9f4a"
      },
      "execution_count": 587,
      "outputs": [
        {
          "output_type": "execute_result",
          "data": {
            "text/plain": [
              "array([[1.000e+00, 2.100e+03, 1.605e+03],\n",
              "       [1.000e+00, 2.000e+03, 1.746e+03],\n",
              "       [1.000e+00, 1.600e+03, 1.235e+03],\n",
              "       [1.000e+00, 1.600e+03, 1.390e+03],\n",
              "       [1.000e+00, 1.600e+03, 1.405e+03],\n",
              "       [1.000e+00, 2.500e+03, 1.395e+03]])"
            ]
          },
          "metadata": {},
          "execution_count": 587
        }
      ]
    },
    {
      "cell_type": "code",
      "source": [
        "# Run the Greedy algorithm\n",
        "nn=X_test.shape[0]\n",
        "kk=X_test.shape[1]\n",
        "\n",
        "sigma_prior = big_sig\n",
        "\n",
        "x_transpose_x = np.matmul(X_train.T, X_train)\n",
        "\n",
        "entropy_hist = []\n",
        "\n",
        "indices = []\n",
        "\n",
        "X_test_pred = X_test\n",
        "\n",
        "# Calculate initial entropy of the posterior distribution (becomes the prior in the sequential process)\n",
        "H_prior = float(1/2*np.log(((np.e*np.pi)**d)*abs(np.linalg.det(big_sig))))\n",
        "\n",
        "index_loop=0\n",
        "\n",
        "x0_list=[]\n"
      ],
      "metadata": {
        "id": "lwdi82QqkXb6"
      },
      "execution_count": 588,
      "outputs": []
    },
    {
      "cell_type": "code",
      "source": [
        "while index_loop < nn:\n",
        "    # select the index with maximal variance\n",
        "    uncertainty = uncertainty_evaluation(X_test_pred, sigma_prior, sigma_squared);\n",
        "    print(uncertainty)\n",
        "    max_val = np.max(uncertainty)\n",
        "    index_local = uncertainty.argmax(axis=0)\n",
        "    # select a covariate with maximal uncertainty and measure the corresponding response\n",
        "    x0 = X_test_pred[index_local,:]\n",
        "    index_global = np.where((X_test == x0).all(axis=1))\n",
        "    indices.append(index_global)\n",
        "    y0 = y_test[index_global[0]]\n",
        "    # update the training matrix and output vector\n",
        "    X_train = np.vstack([X_train, x0])\n",
        "    y_train = np.vstack([y_train, y0])\n",
        "    # update the entropy \n",
        "    H_post = update_entropy(H_prior, sigma_squared, sigma_prior, x0)\n",
        "    entropy_hist.append(H_post)\n",
        "    H_prior = H_post\n",
        "    # calculate new map weights\n",
        "    weights = calculate_map_coefficients(X_train, y_train, lambda_param, sigma_squared) \n",
        "    # update the posterior distribution covariance matrix\n",
        "    sigma_post = update_posterior_sigma(sigma_prior, sigma_squared, x0)\n",
        "    sigma_prior = sigma_post\n",
        "    X_test_pred=np.delete(X_test_pred, index_local, axis=0)\n",
        "    # predict the output \n",
        "    index_loop+=1"
      ],
      "metadata": {
        "colab": {
          "base_uri": "https://localhost:8080/"
        },
        "id": "e8diJerZquDO",
        "outputId": "65f9be76-57c1-4fdc-e912-443fca00e171"
      },
      "execution_count": 589,
      "outputs": [
        {
          "output_type": "stream",
          "name": "stdout",
          "text": [
            "[31.2064105  32.06729028 30.03842349 30.4180013  30.53582009 41.1268364 ]\n",
            "[30.96161944 32.06193057 29.93551094 30.41395807 30.52566246]\n",
            "[30.84378098 29.90667826 30.30147452 30.40217354]\n",
            "[29.8721067  30.26248806 30.36274575]\n",
            "[29.85361708 30.20719155]\n",
            "[29.83612598]\n"
          ]
        }
      ]
    },
    {
      "cell_type": "code",
      "source": [
        "sigma_prior"
      ],
      "metadata": {
        "colab": {
          "base_uri": "https://localhost:8080/"
        },
        "id": "HOSi60pxrgTo",
        "outputId": "500bffad-3301-449d-c2c8-af8dea525d6a"
      },
      "execution_count": 590,
      "outputs": [
        {
          "output_type": "execute_result",
          "data": {
            "text/plain": [
              "array([[ 7.09707702e+00, -1.71953124e-04, -5.09649020e-03],\n",
              "       [-1.71953124e-04,  1.26672146e-05, -1.56487088e-05],\n",
              "       [-5.09649020e-03, -1.56487088e-05,  2.37712431e-05]])"
            ]
          },
          "metadata": {},
          "execution_count": 590
        }
      ]
    },
    {
      "cell_type": "code",
      "source": [
        "print(calc_post_cov_mtx(X_data_post, sigma_squared, lambda_param))\n",
        "# We can see that both matrices are equal"
      ],
      "metadata": {
        "colab": {
          "base_uri": "https://localhost:8080/"
        },
        "id": "YGY6kPjKvn72",
        "outputId": "da81eef1-f409-4a79-c821-ad4c3dae7505"
      },
      "execution_count": 591,
      "outputs": [
        {
          "output_type": "stream",
          "name": "stdout",
          "text": [
            "[[ 7.09707702e+00 -1.71953124e-04 -5.09649020e-03]\n",
            " [-1.71953124e-04  1.26672146e-05 -1.56487088e-05]\n",
            " [-5.09649020e-03 -1.56487088e-05  2.37712431e-05]]\n"
          ]
        }
      ]
    },
    {
      "cell_type": "code",
      "source": [
        "weights"
      ],
      "metadata": {
        "colab": {
          "base_uri": "https://localhost:8080/"
        },
        "id": "jDNYviQbnKDx",
        "outputId": "66e53e8b-9a94-4429-9a38-bf5f5686190c"
      },
      "execution_count": 592,
      "outputs": [
        {
          "output_type": "execute_result",
          "data": {
            "text/plain": [
              "array([[2.31347672e+01],\n",
              "       [9.17563505e-03],\n",
              "       [4.81672771e-02]])"
            ]
          },
          "metadata": {},
          "execution_count": 592
        }
      ]
    },
    {
      "cell_type": "code",
      "source": [
        "print(calculate_map_coefficients(X_data_post, y_data, lambda_param, sigma_squared))\n",
        "# We can see that both vectors are equal "
      ],
      "metadata": {
        "colab": {
          "base_uri": "https://localhost:8080/"
        },
        "id": "GCVtmbOUnp-Q",
        "outputId": "33cc394f-1d7d-4c7b-960b-dcbd5c2695c1"
      },
      "execution_count": 593,
      "outputs": [
        {
          "output_type": "stream",
          "name": "stdout",
          "text": [
            "[[2.31347672e+01]\n",
            " [9.17563505e-03]\n",
            " [4.81672771e-02]]\n"
          ]
        }
      ]
    },
    {
      "cell_type": "code",
      "source": [
        "plt.plot(entropy_hist)\n",
        "plt.xlabel('Iteration')\n",
        "plt.ylabel('Entropy')"
      ],
      "metadata": {
        "colab": {
          "base_uri": "https://localhost:8080/",
          "height": 296
        },
        "id": "-vKmeJCNo3lZ",
        "outputId": "fd797e04-875d-4356-9d79-69c736df44c0"
      },
      "execution_count": 596,
      "outputs": [
        {
          "output_type": "execute_result",
          "data": {
            "text/plain": [
              "Text(0, 0.5, 'Entropy')"
            ]
          },
          "metadata": {},
          "execution_count": 596
        },
        {
          "output_type": "display_data",
          "data": {
            "image/png": "[encoded data removed]",
            "text/plain": [
              "<Figure size 432x288 with 1 Axes>"
            ]
          },
          "metadata": {
            "needs_background": "light"
          }
        }
      ]
    },
    {
      "cell_type": "code",
      "source": [
        ""
      ],
      "metadata": {
        "id": "UbVrkOnuxoPf"
      },
      "execution_count": null,
      "outputs": []
    }
  ]
}
